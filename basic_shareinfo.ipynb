{
 "cells": [
  {
   "cell_type": "code",
   "execution_count": 1,
   "metadata": {},
   "outputs": [],
   "source": [
    "import sys\n",
    "from PyQt5 import QtWidgets ,QAxContainer"
   ]
  },
  {
   "cell_type": "code",
   "execution_count": 2,
   "metadata": {},
   "outputs": [],
   "source": [
    "class MyWindow(QtWidgets.QMainWindow):\n",
    "    def __init__(self):\n",
    "        super().__init__()\n",
    "\n",
    "        self.kiwoom = QAxContainer.QAxWidget(\"KHOPENAPI.KHOpenAPICtrl.1\")\n",
    "        self.kiwoom.dynamicCall(\"CommConnect()\")\n",
    "        self.kiwoom.OnEventConnect.connect(self.event_connect)        \n",
    "        self.kiwoom.OnReceiveTrData.connect(self.receive_trdata)\n",
    "        \n",
    "        self.setWindowTitle(\"PyStock\")\n",
    "        self.setGeometry(50,350,400,400)\n",
    "\n",
    "        label = QtWidgets.QLabel('종목코드: ',self)\n",
    "        label.move(20,20)\n",
    "        \n",
    "        self.code_edit = QtWidgets.QLineEdit(self)\n",
    "        self.code_edit.move(80,20)\n",
    "        self.code_edit.setText(\"039490\")\n",
    "        \n",
    "        btn1 = QtWidgets.QPushButton(\"조회\", self)\n",
    "        btn1.move(190,20)\n",
    "        btn1.clicked.connect(self.btn1_clicked)\n",
    "        \n",
    "        self.text_edit = QtWidgets.QTextEdit(self)\n",
    "        self.text_edit.setGeometry(10,60,280,80)\n",
    "        self.text_edit.setEnabled(False)\n",
    "        \n",
    "        btn2 = QtWidgets.QPushButton(\"계좌번호\",self)\n",
    "        btn2.move(190,140)\n",
    "        btn2.clicked.connect(self.btn2_clicked)\n",
    "\n",
    "        #Open API+는 통신연결 상태가 바뀔 때 OnEventConnect 이벤트가 발생하는 것을 이용\n",
    "        \n",
    "    def event_connect(self, err_code):\n",
    "        if err_code ==0:\n",
    "            self.text_edit.append(\"Login Success!\")\n",
    "    def btn1_clicked(self):\n",
    "        code = self.code_edit.text()\n",
    "        self.text_edit.append(\"Share Code: \"+code)\n",
    "        #input value\n",
    "        self.kiwoom.dynamicCall(\"SetInputValue(QString,QString)\",\"종목코드\",code)\n",
    "        self.kiwoom.dynamicCall(\"CommRqData(QString,QString,int,QString)\",\"opt10001_req\",\"opt10001\",0,\"0101\")\n",
    "    def receive_trdata(self, screen_no, rqname, trcode, recordename, prev_next, data_len,err_code, msg1,msg2):\n",
    "        if rqname == \"opt10001_req\":\n",
    "            name = self.kiwoom.dynamicCall(\"CommGetData(Qstring,Qstring,QString,int,QString)\",trcode,\"\",rqname,0,\"종목명\")\n",
    "            volume = self.kiwoom.dynamicCall(\"CommGetData(Qstring,Qstring,QString,int,QString)\",trcode,\"\",rqname,0,\"거래량\")\n",
    "            self.text_edit.append(\"Share Name: \"+name.strip())\n",
    "            self.text_edit.append(\"Trade Volume: \"+volume.strip())\n",
    "    def btn2_clicked(self):\n",
    "        accountNum = self.kiwoom.dynamicCall(\"GetLoginInfo(QString)\",[\"ACCNO\"])\n",
    "        self.text_edit.append(\"Account Number: \"+accountNum)#.rstrip(';'))"
   ]
  },
  {
   "cell_type": "markdown",
   "metadata": {},
   "source": [
    "U can make 32-bit environment in 64-bit Windows!!! Thx god.. follow next 2 urls.\n",
    "\n",
    "http://sharebook.kr/pages/viewpage.action?pageId=9437187 &\n",
    "https://stackoverflow.com/questions/33709391/using-multiple-python-engines-32bit-64bit-and-2-7-3-5"
   ]
  },
  {
   "cell_type": "code",
   "execution_count": 3,
   "metadata": {},
   "outputs": [],
   "source": [
    "if __name__ ==\"__main__\":\n",
    "    app = QtWidgets.QApplication(sys.argv)\n",
    "    myWindow = MyWindow()\n",
    "    myWindow.show()\n",
    "    app.exec_()"
   ]
  },
  {
   "cell_type": "code",
   "execution_count": null,
   "metadata": {},
   "outputs": [],
   "source": []
  }
 ],
 "metadata": {
  "kernelspec": {
   "display_name": "py36_32bit",
   "language": "python",
   "name": "py36_32"
  },
  "language_info": {
   "codemirror_mode": {
    "name": "ipython",
    "version": 3
   },
   "file_extension": ".py",
   "mimetype": "text/x-python",
   "name": "python",
   "nbconvert_exporter": "python",
   "pygments_lexer": "ipython3",
   "version": "3.6.6"
  }
 },
 "nbformat": 4,
 "nbformat_minor": 2
}
