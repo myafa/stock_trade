{
 "cells": [
  {
   "cell_type": "code",
   "execution_count": 1,
   "metadata": {},
   "outputs": [],
   "source": [
    "import sys\n",
    "from PyQt5 import QtWidgets ,QAxContainer ,QtCore"
   ]
  },
  {
   "cell_type": "code",
   "execution_count": 2,
   "metadata": {},
   "outputs": [],
   "source": [
    "class Kiwoom(QAxContainer.QAxWidget):\n",
    "    def __init__(self):\n",
    "        super().__init__()\n",
    "        self._createKiwoomInstance()\n",
    "        self._setSignalSlots()\n",
    "    def _createKiwoomInstance(self):\n",
    "        self.setControl(\"KHOPENAPI.KHOpenAPICtrl.1\")\n",
    "    def _setSignalSlots(self):\n",
    "        self.OnEventConnect.connect(self._eventConnect)\n",
    "    def commConnect(self):\n",
    "        self.dynamicCall(\"CommConnect()\")\n",
    "        self.loginEventLoop = QtCore.QEventLoop()\n",
    "        self.loginEventLoop.exec_()\n",
    "    \n",
    "    def _eventConnect(self, errCode):\n",
    "        if errCode == 0:\n",
    "            print(\"Connected\")\n",
    "        else:\n",
    "            print(\"Disconnected\")\n",
    "        self.loginEventLoop.exit()\n",
    "    def getCommRealData(self, strCode, nFid):\n",
    "        realData = self.dynamicCall(\"GetCommRealData(Qstring, int)\",strCode ,nFid)\n",
    "    def setRealReg(self, screenNo, strCodeList, strFidList, strRealType): # sNo, \"share1;share2;...\", \"FID1;FID2;...\"\n",
    "        \n",
    "    "
   ]
  },
  {
   "cell_type": "code",
   "execution_count": 3,
   "metadata": {},
   "outputs": [
    {
     "name": "stdout",
     "output_type": "stream",
     "text": [
      "Connected\n"
     ]
    }
   ],
   "source": [
    "if __name__ ==\"__main__\":\n",
    "    app = QtWidgets.QApplication(sys.argv)\n",
    "    kiwoom = Kiwoom()\n",
    "    kiwoom.commConnect()"
   ]
  },
  {
   "cell_type": "code",
   "execution_count": null,
   "metadata": {},
   "outputs": [],
   "source": []
  }
 ],
 "metadata": {
  "kernelspec": {
   "display_name": "py36_32bit",
   "language": "python",
   "name": "py36_32"
  },
  "language_info": {
   "codemirror_mode": {
    "name": "ipython",
    "version": 3
   },
   "file_extension": ".py",
   "mimetype": "text/x-python",
   "name": "python",
   "nbconvert_exporter": "python",
   "pygments_lexer": "ipython3",
   "version": "3.6.6"
  }
 },
 "nbformat": 4,
 "nbformat_minor": 2
}
