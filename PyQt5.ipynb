{
 "cells": [
  {
   "cell_type": "code",
   "execution_count": 1,
   "metadata": {},
   "outputs": [],
   "source": [
    "import sys\n",
    "from PyQt5 import QtWidgets ,QAxContainer"
   ]
  },
  {
   "cell_type": "code",
   "execution_count": 2,
   "metadata": {},
   "outputs": [],
   "source": [
    "class MyWindow(QtWidgets.QMainWindow):\n",
    "    def __init__(self):\n",
    "        super().__init__()\n",
    "        self.setWindowTitle(\"PyStock\")\n",
    "        self.setGeometry(50,350,400,400)\n",
    "\n",
    "        self.kiwoom = QAxContainer.QAxWidget(\"KHOPENAPI.KHOpenAPICtrl.1\")\n",
    "        \n",
    "        btn1 = QtWidgets.QPushButton(\"Log in\", self)\n",
    "        btn1.move(20,30)\n",
    "        btn1.clicked.connect(self.btn1_clicked)\n",
    "\n",
    "        btn2 = QtWidgets.QPushButton(\"Check State\",self)\n",
    "        btn2.move(20,70)\n",
    "        btn2.clicked.connect(self.btn2_clicked)\n",
    "        \n",
    "    def btn1_clicked(self):\n",
    "        ret = self.kiwoom.dynamicCall(\"CommConnect()\")\n",
    "    def btn2_clicked(self):\n",
    "        if self.kiwoom.dynamicCall(\"GetConnectState()\")==0:\n",
    "            self.statusBar().showMessage(\"Not Connected\")\n",
    "        elif self.kiwoom.dynamicCall(\"GetConnectState()\")==1:\n",
    "            self.statusBar().showMessage(\"Connected\")"
   ]
  },
  {
   "cell_type": "code",
   "execution_count": null,
   "metadata": {},
   "outputs": [],
   "source": [
    "if __name__ ==\"__main__\":\n",
    "    app = QtWidgets.QApplication(sys.argv)\n",
    "    myWindow = MyWindow()\n",
    "    myWindow.show()\n",
    "    app.exec_()"
   ]
  },
  {
   "cell_type": "code",
   "execution_count": null,
   "metadata": {},
   "outputs": [],
   "source": []
  }
 ],
 "metadata": {
  "kernelspec": {
   "display_name": "Python 3",
   "language": "python",
   "name": "python3"
  },
  "language_info": {
   "codemirror_mode": {
    "name": "ipython",
    "version": 3
   },
   "file_extension": ".py",
   "mimetype": "text/x-python",
   "name": "python",
   "nbconvert_exporter": "python",
   "pygments_lexer": "ipython3",
   "version": "3.6.5"
  }
 },
 "nbformat": 4,
 "nbformat_minor": 2
}
